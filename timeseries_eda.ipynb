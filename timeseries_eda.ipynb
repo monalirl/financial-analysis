{
 "cells": [
  {
   "cell_type": "code",
   "execution_count": 1,
   "metadata": {},
   "outputs": [],
   "source": [
    "#Importing the Libraries\n",
    "import pandas as pd\n",
    "import numpy as np\n",
    "import matplotlib.pyplot as plt\n",
    "from sklearn.preprocessing import MinMaxScaler\n",
    "import tensorflow as tf\n",
    "from sklearn.model_selection import TimeSeriesSplit\n",
    "from sklearn.metrics import mean_squared_error, r2_score\n",
    "import matplotlib.dates as mandates\n",
    "from sklearn.preprocessing import MinMaxScaler\n",
    "from sklearn import linear_model"
   ]
  },
  {
   "cell_type": "code",
   "execution_count": 2,
   "metadata": {},
   "outputs": [],
   "source": [
    "df = pd.read_csv('OPENAIERC-USD.csv')"
   ]
  },
  {
   "cell_type": "code",
   "execution_count": 3,
   "metadata": {},
   "outputs": [
    {
     "data": {
      "text/html": [
       "<div>\n",
       "<style scoped>\n",
       "    .dataframe tbody tr th:only-of-type {\n",
       "        vertical-align: middle;\n",
       "    }\n",
       "\n",
       "    .dataframe tbody tr th {\n",
       "        vertical-align: top;\n",
       "    }\n",
       "\n",
       "    .dataframe thead th {\n",
       "        text-align: right;\n",
       "    }\n",
       "</style>\n",
       "<table border=\"1\" class=\"dataframe\">\n",
       "  <thead>\n",
       "    <tr style=\"text-align: right;\">\n",
       "      <th></th>\n",
       "      <th>Date</th>\n",
       "      <th>Open</th>\n",
       "      <th>High</th>\n",
       "      <th>Low</th>\n",
       "      <th>Close</th>\n",
       "      <th>Adj Close</th>\n",
       "      <th>Volume</th>\n",
       "    </tr>\n",
       "  </thead>\n",
       "  <tbody>\n",
       "    <tr>\n",
       "      <th>0</th>\n",
       "      <td>2022-12-07</td>\n",
       "      <td>0.009758</td>\n",
       "      <td>0.022431</td>\n",
       "      <td>0.008640</td>\n",
       "      <td>0.020350</td>\n",
       "      <td>0.020350</td>\n",
       "      <td>716630</td>\n",
       "    </tr>\n",
       "    <tr>\n",
       "      <th>1</th>\n",
       "      <td>2022-12-08</td>\n",
       "      <td>0.020350</td>\n",
       "      <td>0.264914</td>\n",
       "      <td>0.015416</td>\n",
       "      <td>0.029237</td>\n",
       "      <td>0.029237</td>\n",
       "      <td>13807621</td>\n",
       "    </tr>\n",
       "    <tr>\n",
       "      <th>2</th>\n",
       "      <td>2022-12-09</td>\n",
       "      <td>0.029237</td>\n",
       "      <td>0.196895</td>\n",
       "      <td>0.028109</td>\n",
       "      <td>0.170911</td>\n",
       "      <td>0.170911</td>\n",
       "      <td>5270098</td>\n",
       "    </tr>\n",
       "    <tr>\n",
       "      <th>3</th>\n",
       "      <td>2022-12-10</td>\n",
       "      <td>0.170911</td>\n",
       "      <td>1.254307</td>\n",
       "      <td>0.021303</td>\n",
       "      <td>0.039266</td>\n",
       "      <td>0.039266</td>\n",
       "      <td>26391467</td>\n",
       "    </tr>\n",
       "    <tr>\n",
       "      <th>4</th>\n",
       "      <td>2022-12-11</td>\n",
       "      <td>0.039266</td>\n",
       "      <td>0.551347</td>\n",
       "      <td>0.016469</td>\n",
       "      <td>0.023328</td>\n",
       "      <td>0.023328</td>\n",
       "      <td>9357453</td>\n",
       "    </tr>\n",
       "    <tr>\n",
       "      <th>5</th>\n",
       "      <td>2022-12-12</td>\n",
       "      <td>0.023328</td>\n",
       "      <td>0.029100</td>\n",
       "      <td>0.014079</td>\n",
       "      <td>0.023604</td>\n",
       "      <td>0.023604</td>\n",
       "      <td>901092</td>\n",
       "    </tr>\n",
       "    <tr>\n",
       "      <th>6</th>\n",
       "      <td>2022-12-13</td>\n",
       "      <td>0.023405</td>\n",
       "      <td>0.031742</td>\n",
       "      <td>0.017644</td>\n",
       "      <td>0.020885</td>\n",
       "      <td>0.020885</td>\n",
       "      <td>528678</td>\n",
       "    </tr>\n",
       "    <tr>\n",
       "      <th>7</th>\n",
       "      <td>2022-12-14</td>\n",
       "      <td>0.020892</td>\n",
       "      <td>0.021030</td>\n",
       "      <td>0.015764</td>\n",
       "      <td>0.019879</td>\n",
       "      <td>0.019879</td>\n",
       "      <td>257892</td>\n",
       "    </tr>\n",
       "    <tr>\n",
       "      <th>8</th>\n",
       "      <td>2022-12-15</td>\n",
       "      <td>0.019896</td>\n",
       "      <td>0.019896</td>\n",
       "      <td>0.011367</td>\n",
       "      <td>0.012675</td>\n",
       "      <td>0.012675</td>\n",
       "      <td>507746</td>\n",
       "    </tr>\n",
       "    <tr>\n",
       "      <th>9</th>\n",
       "      <td>2022-12-16</td>\n",
       "      <td>0.012677</td>\n",
       "      <td>0.172139</td>\n",
       "      <td>0.012202</td>\n",
       "      <td>0.107290</td>\n",
       "      <td>0.107290</td>\n",
       "      <td>4697223</td>\n",
       "    </tr>\n",
       "  </tbody>\n",
       "</table>\n",
       "</div>"
      ],
      "text/plain": [
       "         Date      Open      High       Low     Close  Adj Close    Volume\n",
       "0  2022-12-07  0.009758  0.022431  0.008640  0.020350   0.020350    716630\n",
       "1  2022-12-08  0.020350  0.264914  0.015416  0.029237   0.029237  13807621\n",
       "2  2022-12-09  0.029237  0.196895  0.028109  0.170911   0.170911   5270098\n",
       "3  2022-12-10  0.170911  1.254307  0.021303  0.039266   0.039266  26391467\n",
       "4  2022-12-11  0.039266  0.551347  0.016469  0.023328   0.023328   9357453\n",
       "5  2022-12-12  0.023328  0.029100  0.014079  0.023604   0.023604    901092\n",
       "6  2022-12-13  0.023405  0.031742  0.017644  0.020885   0.020885    528678\n",
       "7  2022-12-14  0.020892  0.021030  0.015764  0.019879   0.019879    257892\n",
       "8  2022-12-15  0.019896  0.019896  0.011367  0.012675   0.012675    507746\n",
       "9  2022-12-16  0.012677  0.172139  0.012202  0.107290   0.107290   4697223"
      ]
     },
     "execution_count": 3,
     "metadata": {},
     "output_type": "execute_result"
    }
   ],
   "source": [
    "df.head(10)"
   ]
  },
  {
   "cell_type": "code",
   "execution_count": 4,
   "metadata": {},
   "outputs": [],
   "source": [
    "df_pr = pd.read_csv('OPENAIERC-USD.csv', na_values=['null'], index_col='Date', parse_dates=True, infer_datetime_format=True)"
   ]
  },
  {
   "cell_type": "code",
   "execution_count": 5,
   "metadata": {},
   "outputs": [
    {
     "data": {
      "text/html": [
       "<div>\n",
       "<style scoped>\n",
       "    .dataframe tbody tr th:only-of-type {\n",
       "        vertical-align: middle;\n",
       "    }\n",
       "\n",
       "    .dataframe tbody tr th {\n",
       "        vertical-align: top;\n",
       "    }\n",
       "\n",
       "    .dataframe thead th {\n",
       "        text-align: right;\n",
       "    }\n",
       "</style>\n",
       "<table border=\"1\" class=\"dataframe\">\n",
       "  <thead>\n",
       "    <tr style=\"text-align: right;\">\n",
       "      <th></th>\n",
       "      <th>Open</th>\n",
       "      <th>High</th>\n",
       "      <th>Low</th>\n",
       "      <th>Close</th>\n",
       "      <th>Adj Close</th>\n",
       "      <th>Volume</th>\n",
       "    </tr>\n",
       "    <tr>\n",
       "      <th>Date</th>\n",
       "      <th></th>\n",
       "      <th></th>\n",
       "      <th></th>\n",
       "      <th></th>\n",
       "      <th></th>\n",
       "      <th></th>\n",
       "    </tr>\n",
       "  </thead>\n",
       "  <tbody>\n",
       "    <tr>\n",
       "      <th>2022-12-07</th>\n",
       "      <td>0.009758</td>\n",
       "      <td>0.022431</td>\n",
       "      <td>0.008640</td>\n",
       "      <td>0.020350</td>\n",
       "      <td>0.020350</td>\n",
       "      <td>716630</td>\n",
       "    </tr>\n",
       "    <tr>\n",
       "      <th>2022-12-08</th>\n",
       "      <td>0.020350</td>\n",
       "      <td>0.264914</td>\n",
       "      <td>0.015416</td>\n",
       "      <td>0.029237</td>\n",
       "      <td>0.029237</td>\n",
       "      <td>13807621</td>\n",
       "    </tr>\n",
       "    <tr>\n",
       "      <th>2022-12-09</th>\n",
       "      <td>0.029237</td>\n",
       "      <td>0.196895</td>\n",
       "      <td>0.028109</td>\n",
       "      <td>0.170911</td>\n",
       "      <td>0.170911</td>\n",
       "      <td>5270098</td>\n",
       "    </tr>\n",
       "    <tr>\n",
       "      <th>2022-12-10</th>\n",
       "      <td>0.170911</td>\n",
       "      <td>1.254307</td>\n",
       "      <td>0.021303</td>\n",
       "      <td>0.039266</td>\n",
       "      <td>0.039266</td>\n",
       "      <td>26391467</td>\n",
       "    </tr>\n",
       "    <tr>\n",
       "      <th>2022-12-11</th>\n",
       "      <td>0.039266</td>\n",
       "      <td>0.551347</td>\n",
       "      <td>0.016469</td>\n",
       "      <td>0.023328</td>\n",
       "      <td>0.023328</td>\n",
       "      <td>9357453</td>\n",
       "    </tr>\n",
       "  </tbody>\n",
       "</table>\n",
       "</div>"
      ],
      "text/plain": [
       "                Open      High       Low     Close  Adj Close    Volume\n",
       "Date                                                                   \n",
       "2022-12-07  0.009758  0.022431  0.008640  0.020350   0.020350    716630\n",
       "2022-12-08  0.020350  0.264914  0.015416  0.029237   0.029237  13807621\n",
       "2022-12-09  0.029237  0.196895  0.028109  0.170911   0.170911   5270098\n",
       "2022-12-10  0.170911  1.254307  0.021303  0.039266   0.039266  26391467\n",
       "2022-12-11  0.039266  0.551347  0.016469  0.023328   0.023328   9357453"
      ]
     },
     "execution_count": 5,
     "metadata": {},
     "output_type": "execute_result"
    }
   ],
   "source": [
    "df_pr.head()"
   ]
  },
  {
   "cell_type": "code",
   "execution_count": 6,
   "metadata": {},
   "outputs": [
    {
     "data": {
      "text/plain": [
       "DatetimeIndex(['2022-12-07', '2022-12-08', '2022-12-09', '2022-12-10',\n",
       "               '2022-12-11', '2022-12-12', '2022-12-13', '2022-12-14',\n",
       "               '2022-12-15', '2022-12-16',\n",
       "               ...\n",
       "               '2023-09-23', '2023-09-24', '2023-09-25', '2023-09-26',\n",
       "               '2023-09-27', '2023-09-28', '2023-09-29', '2023-09-30',\n",
       "               '2023-10-01', '2023-10-02'],\n",
       "              dtype='datetime64[ns]', name='Date', length=300, freq=None)"
      ]
     },
     "execution_count": 6,
     "metadata": {},
     "output_type": "execute_result"
    }
   ],
   "source": [
    "df_pr.index  #format %y/%m/%d"
   ]
  },
  {
   "cell_type": "code",
   "execution_count": 7,
   "metadata": {},
   "outputs": [
    {
     "name": "stdout",
     "output_type": "stream",
     "text": [
      "Dataframe Shape:  (300, 6)\n",
      "Null Value Present:  Open         0\n",
      "High         0\n",
      "Low          0\n",
      "Close        0\n",
      "Adj Close    0\n",
      "Volume       0\n",
      "dtype: int64\n"
     ]
    }
   ],
   "source": [
    "##checking any null values if present\n",
    "print('Dataframe Shape: ', df_pr.shape)\n",
    "print('Null Value Present: ', df_pr.isnull().sum())"
   ]
  },
  {
   "cell_type": "markdown",
   "metadata": {},
   "source": [
    "### Undertanding Adjusted close price: \n",
    "* The Adjusted Close Price is a modified closing price that accounts for corporate actions, ensuring that your historical investment performance is accurately represented in the stock's price history.\n",
    "\n",
    "* The Adjusted Close Value is the final output value that will be forecasted using the Machine Learning model. This figure indicates the stock’s closing price on that particular day of stock market trading."
   ]
  },
  {
   "cell_type": "markdown",
   "metadata": {},
   "source": [
    "### Time Series EDA"
   ]
  },
  {
   "cell_type": "code",
   "execution_count": 8,
   "metadata": {},
   "outputs": [
    {
     "data": {
      "text/plain": [
       "<AxesSubplot:xlabel='Date'>"
      ]
     },
     "execution_count": 8,
     "metadata": {},
     "output_type": "execute_result"
    },
    {
     "data": {
      "image/png": "[encoded data removed]",
      "text/plain": [
       "<Figure size 432x288 with 1 Axes>"
      ]
     },
     "metadata": {
      "needs_background": "light"
     },
     "output_type": "display_data"
    }
   ],
   "source": [
    "#Plotting the True Adj Close Value\n",
    "df_pr['Adj Close'].plot()"
   ]
  },
  {
   "cell_type": "code",
   "execution_count": 9,
   "metadata": {},
   "outputs": [
    {
     "data": {
      "text/plain": [
       "<AxesSubplot:xlabel='Date'>"
      ]
     },
     "execution_count": 9,
     "metadata": {},
     "output_type": "execute_result"
    },
    {
     "data": {
      "image/png": "[encoded data removed]",
      "text/plain": [
       "<Figure size 864x288 with 1 Axes>"
      ]
     },
     "metadata": {
      "needs_background": "light"
     },
     "output_type": "display_data"
    }
   ],
   "source": [
    "#x limit\n",
    "\n",
    "df_pr['Adj Close'].plot(xlim = ['2022-12-02', '2023-02-28'],ylim =[0,0.2], figsize= (12,4),ls ='--' ,c = 'green')"
   ]
  },
  {
   "cell_type": "code",
   "execution_count": 10,
   "metadata": {},
   "outputs": [
    {
     "data": {
      "text/plain": [
       "Open              0.009758\n",
       "High              0.022431\n",
       "Low               0.008640\n",
       "Close             0.020350\n",
       "Adj Close         0.020350\n",
       "Volume       716630.000000\n",
       "Name: 2022-12-07 00:00:00, dtype: float64"
      ]
     },
     "execution_count": 10,
     "metadata": {},
     "output_type": "execute_result"
    }
   ],
   "source": [
    "df_pr.loc['2022-12-07']"
   ]
  },
  {
   "cell_type": "code",
   "execution_count": 11,
   "metadata": {},
   "outputs": [],
   "source": [
    "share_adj_close = df_pr.loc[\"2022-12-07\": \"2023-02-28\"]['Adj Close']\n",
    "index =  df_pr.loc[\"2022-12-07\": \"2023-02-28\"]['Adj Close'].index"
   ]
  },
  {
   "cell_type": "code",
   "execution_count": 12,
   "metadata": {},
   "outputs": [
    {
     "data": {
      "text/plain": [
       "[<matplotlib.lines.Line2D at 0x20a87a13588>]"
      ]
     },
     "execution_count": 12,
     "metadata": {},
     "output_type": "execute_result"
    },
    {
     "data": {
      "image/png": "[encoded data removed]",
      "text/plain": [
       "<Figure size 432x288 with 1 Axes>"
      ]
     },
     "metadata": {
      "needs_background": "light"
     },
     "output_type": "display_data"
    }
   ],
   "source": [
    "figure, ax = plt.subplots()\n",
    "plt.tight_layout()\n",
    "figure.autofmt_xdate()\n",
    "ax.plot(index, share_adj_close)"
   ]
  },
  {
   "cell_type": "markdown",
   "metadata": {},
   "source": [
    "### Time Resampling"
   ]
  },
  {
   "cell_type": "markdown",
   "metadata": {},
   "source": [
    "Max share price in particular years"
   ]
  },
  {
   "cell_type": "code",
   "execution_count": 13,
   "metadata": {},
   "outputs": [
    {
     "data": {
      "text/plain": [
       "Open             0.008449\n",
       "High             0.008542\n",
       "Low              0.006670\n",
       "Close            0.007541\n",
       "Adj Close        0.007541\n",
       "Volume       30484.000000\n",
       "Name: 2022-12-31 00:00:00, dtype: float64"
      ]
     },
     "execution_count": 13,
     "metadata": {},
     "output_type": "execute_result"
    }
   ],
   "source": [
    "df_pr.loc['2022-12-31']"
   ]
  },
  {
   "cell_type": "code",
   "execution_count": 14,
   "metadata": {},
   "outputs": [
    {
     "data": {
      "text/html": [
       "<div>\n",
       "<style scoped>\n",
       "    .dataframe tbody tr th:only-of-type {\n",
       "        vertical-align: middle;\n",
       "    }\n",
       "\n",
       "    .dataframe tbody tr th {\n",
       "        vertical-align: top;\n",
       "    }\n",
       "\n",
       "    .dataframe thead th {\n",
       "        text-align: right;\n",
       "    }\n",
       "</style>\n",
       "<table border=\"1\" class=\"dataframe\">\n",
       "  <thead>\n",
       "    <tr style=\"text-align: right;\">\n",
       "      <th></th>\n",
       "      <th>Open</th>\n",
       "      <th>High</th>\n",
       "      <th>Low</th>\n",
       "      <th>Close</th>\n",
       "      <th>Adj Close</th>\n",
       "      <th>Volume</th>\n",
       "    </tr>\n",
       "    <tr>\n",
       "      <th>Date</th>\n",
       "      <th></th>\n",
       "      <th></th>\n",
       "      <th></th>\n",
       "      <th></th>\n",
       "      <th></th>\n",
       "      <th></th>\n",
       "    </tr>\n",
       "  </thead>\n",
       "  <tbody>\n",
       "    <tr>\n",
       "      <th>2022-10-01</th>\n",
       "      <td>0.170911</td>\n",
       "      <td>1.254307</td>\n",
       "      <td>0.028109</td>\n",
       "      <td>0.170911</td>\n",
       "      <td>0.170911</td>\n",
       "      <td>26391467</td>\n",
       "    </tr>\n",
       "    <tr>\n",
       "      <th>2023-01-01</th>\n",
       "      <td>0.034404</td>\n",
       "      <td>0.065411</td>\n",
       "      <td>0.030324</td>\n",
       "      <td>0.034422</td>\n",
       "      <td>0.034422</td>\n",
       "      <td>919999</td>\n",
       "    </tr>\n",
       "    <tr>\n",
       "      <th>2023-04-01</th>\n",
       "      <td>0.011917</td>\n",
       "      <td>0.011940</td>\n",
       "      <td>0.010848</td>\n",
       "      <td>0.011917</td>\n",
       "      <td>0.011917</td>\n",
       "      <td>16582</td>\n",
       "    </tr>\n",
       "    <tr>\n",
       "      <th>2023-07-01</th>\n",
       "      <td>0.004272</td>\n",
       "      <td>0.004302</td>\n",
       "      <td>0.004199</td>\n",
       "      <td>0.004271</td>\n",
       "      <td>0.004271</td>\n",
       "      <td>18476</td>\n",
       "    </tr>\n",
       "    <tr>\n",
       "      <th>2023-10-01</th>\n",
       "      <td>0.001334</td>\n",
       "      <td>0.001447</td>\n",
       "      <td>0.001323</td>\n",
       "      <td>0.001447</td>\n",
       "      <td>0.001447</td>\n",
       "      <td>380</td>\n",
       "    </tr>\n",
       "  </tbody>\n",
       "</table>\n",
       "</div>"
      ],
      "text/plain": [
       "                Open      High       Low     Close  Adj Close    Volume\n",
       "Date                                                                   \n",
       "2022-10-01  0.170911  1.254307  0.028109  0.170911   0.170911  26391467\n",
       "2023-01-01  0.034404  0.065411  0.030324  0.034422   0.034422    919999\n",
       "2023-04-01  0.011917  0.011940  0.010848  0.011917   0.011917     16582\n",
       "2023-07-01  0.004272  0.004302  0.004199  0.004271   0.004271     18476\n",
       "2023-10-01  0.001334  0.001447  0.001323  0.001447   0.001447       380"
      ]
     },
     "execution_count": 14,
     "metadata": {},
     "output_type": "execute_result"
    }
   ],
   "source": [
    "## A- quaterly frequency\n",
    "df_pr.resample(rule= 'QS').max()"
   ]
  },
  {
   "cell_type": "markdown",
   "metadata": {},
   "source": [
    "Quaterly max frequency "
   ]
  },
  {
   "cell_type": "code",
   "execution_count": 15,
   "metadata": {},
   "outputs": [
    {
     "data": {
      "text/plain": [
       "<AxesSubplot:xlabel='Date'>"
      ]
     },
     "execution_count": 15,
     "metadata": {},
     "output_type": "execute_result"
    },
    {
     "data": {
      "image/png": "[encoded data removed]",
      "text/plain": [
       "<Figure size 432x288 with 1 Axes>"
      ]
     },
     "metadata": {
      "needs_background": "light"
     },
     "output_type": "display_data"
    }
   ],
   "source": [
    "###quaterly Adj Close frequency\n",
    "\n",
    "df_pr.resample(rule= 'QS').max()['Adj Close'].plot()"
   ]
  },
  {
   "cell_type": "markdown",
   "metadata": {},
   "source": [
    "Monthly Mean Plot"
   ]
  },
  {
   "cell_type": "code",
   "execution_count": 16,
   "metadata": {},
   "outputs": [
    {
     "data": {
      "text/plain": [
       "Date\n",
       "2022-12-31    0.024745\n",
       "2023-01-31    0.019077\n",
       "2023-02-28    0.008406\n",
       "2023-03-31    0.009882\n",
       "2023-04-30    0.009664\n",
       "2023-05-31    0.006845\n",
       "2023-06-30    0.004403\n",
       "2023-07-31    0.004016\n",
       "2023-08-31    0.003465\n",
       "2023-09-30    0.001220\n",
       "2023-10-31    0.001391\n",
       "Freq: M, Name: Adj Close, dtype: float64"
      ]
     },
     "execution_count": 16,
     "metadata": {},
     "output_type": "execute_result"
    }
   ],
   "source": [
    "#Monthly mean\n",
    "\n",
    "df_pr['Adj Close'].resample(rule='M').mean()"
   ]
  },
  {
   "cell_type": "code",
   "execution_count": 17,
   "metadata": {},
   "outputs": [
    {
     "data": {
      "text/plain": [
       "<AxesSubplot:xlabel='Date'>"
      ]
     },
     "execution_count": 17,
     "metadata": {},
     "output_type": "execute_result"
    },
    {
     "data": {
      "image/png": "[encoded data removed]",
      "text/plain": [
       "<Figure size 1080x432 with 1 Axes>"
      ]
     },
     "metadata": {
      "needs_background": "light"
     },
     "output_type": "display_data"
    }
   ],
   "source": [
    "df_pr['Adj Close'].resample(rule='M').max().plot(kind = 'bar', figsize = (15,6))"
   ]
  },
  {
   "cell_type": "markdown",
   "metadata": {},
   "source": [
    "#### Rolling"
   ]
  },
  {
   "cell_type": "code",
   "execution_count": 18,
   "metadata": {},
   "outputs": [
    {
     "data": {
      "text/plain": [
       "Date\n",
       "2022-12-07         NaN\n",
       "2022-12-08         NaN\n",
       "2022-12-09         NaN\n",
       "2022-12-10         NaN\n",
       "2022-12-11         NaN\n",
       "2022-12-12         NaN\n",
       "2022-12-13         NaN\n",
       "2022-12-14         NaN\n",
       "2022-12-15         NaN\n",
       "2022-12-16    0.256380\n",
       "2022-12-17    0.269200\n",
       "2022-12-18    0.244286\n",
       "2022-12-19    0.225954\n",
       "2022-12-20    0.101574\n",
       "2022-12-21    0.047808\n",
       "2022-12-22    0.046229\n",
       "2022-12-23    0.044352\n",
       "2022-12-24    0.043542\n",
       "2022-12-25    0.042749\n",
       "2022-12-26    0.026585\n",
       "Name: High, dtype: float64"
      ]
     },
     "execution_count": 18,
     "metadata": {},
     "output_type": "execute_result"
    }
   ],
   "source": [
    "#rolling window for 10 Days\n",
    "\n",
    "df_pr['High'].rolling(10).mean().head(20)"
   ]
  },
  {
   "cell_type": "code",
   "execution_count": 19,
   "metadata": {},
   "outputs": [],
   "source": [
    "##rolling window for 30 days\n",
    "df_pr['Open: 30 days rolling']= df_pr['Open'].rolling(30).mean()"
   ]
  },
  {
   "cell_type": "code",
   "execution_count": 20,
   "metadata": {},
   "outputs": [
    {
     "data": {
      "text/html": [
       "<div>\n",
       "<style scoped>\n",
       "    .dataframe tbody tr th:only-of-type {\n",
       "        vertical-align: middle;\n",
       "    }\n",
       "\n",
       "    .dataframe tbody tr th {\n",
       "        vertical-align: top;\n",
       "    }\n",
       "\n",
       "    .dataframe thead th {\n",
       "        text-align: right;\n",
       "    }\n",
       "</style>\n",
       "<table border=\"1\" class=\"dataframe\">\n",
       "  <thead>\n",
       "    <tr style=\"text-align: right;\">\n",
       "      <th></th>\n",
       "      <th>Open</th>\n",
       "      <th>High</th>\n",
       "      <th>Low</th>\n",
       "      <th>Close</th>\n",
       "      <th>Adj Close</th>\n",
       "      <th>Volume</th>\n",
       "      <th>Open: 30 days rolling</th>\n",
       "    </tr>\n",
       "    <tr>\n",
       "      <th>Date</th>\n",
       "      <th></th>\n",
       "      <th></th>\n",
       "      <th></th>\n",
       "      <th></th>\n",
       "      <th></th>\n",
       "      <th></th>\n",
       "      <th></th>\n",
       "    </tr>\n",
       "  </thead>\n",
       "  <tbody>\n",
       "    <tr>\n",
       "      <th>2022-12-07</th>\n",
       "      <td>0.009758</td>\n",
       "      <td>0.022431</td>\n",
       "      <td>0.008640</td>\n",
       "      <td>0.020350</td>\n",
       "      <td>0.020350</td>\n",
       "      <td>716630</td>\n",
       "      <td>NaN</td>\n",
       "    </tr>\n",
       "    <tr>\n",
       "      <th>2022-12-08</th>\n",
       "      <td>0.020350</td>\n",
       "      <td>0.264914</td>\n",
       "      <td>0.015416</td>\n",
       "      <td>0.029237</td>\n",
       "      <td>0.029237</td>\n",
       "      <td>13807621</td>\n",
       "      <td>NaN</td>\n",
       "    </tr>\n",
       "    <tr>\n",
       "      <th>2022-12-09</th>\n",
       "      <td>0.029237</td>\n",
       "      <td>0.196895</td>\n",
       "      <td>0.028109</td>\n",
       "      <td>0.170911</td>\n",
       "      <td>0.170911</td>\n",
       "      <td>5270098</td>\n",
       "      <td>NaN</td>\n",
       "    </tr>\n",
       "    <tr>\n",
       "      <th>2022-12-10</th>\n",
       "      <td>0.170911</td>\n",
       "      <td>1.254307</td>\n",
       "      <td>0.021303</td>\n",
       "      <td>0.039266</td>\n",
       "      <td>0.039266</td>\n",
       "      <td>26391467</td>\n",
       "      <td>NaN</td>\n",
       "    </tr>\n",
       "    <tr>\n",
       "      <th>2022-12-11</th>\n",
       "      <td>0.039266</td>\n",
       "      <td>0.551347</td>\n",
       "      <td>0.016469</td>\n",
       "      <td>0.023328</td>\n",
       "      <td>0.023328</td>\n",
       "      <td>9357453</td>\n",
       "      <td>NaN</td>\n",
       "    </tr>\n",
       "    <tr>\n",
       "      <th>2022-12-12</th>\n",
       "      <td>0.023328</td>\n",
       "      <td>0.029100</td>\n",
       "      <td>0.014079</td>\n",
       "      <td>0.023604</td>\n",
       "      <td>0.023604</td>\n",
       "      <td>901092</td>\n",
       "      <td>NaN</td>\n",
       "    </tr>\n",
       "    <tr>\n",
       "      <th>2022-12-13</th>\n",
       "      <td>0.023405</td>\n",
       "      <td>0.031742</td>\n",
       "      <td>0.017644</td>\n",
       "      <td>0.020885</td>\n",
       "      <td>0.020885</td>\n",
       "      <td>528678</td>\n",
       "      <td>NaN</td>\n",
       "    </tr>\n",
       "    <tr>\n",
       "      <th>2022-12-14</th>\n",
       "      <td>0.020892</td>\n",
       "      <td>0.021030</td>\n",
       "      <td>0.015764</td>\n",
       "      <td>0.019879</td>\n",
       "      <td>0.019879</td>\n",
       "      <td>257892</td>\n",
       "      <td>NaN</td>\n",
       "    </tr>\n",
       "    <tr>\n",
       "      <th>2022-12-15</th>\n",
       "      <td>0.019896</td>\n",
       "      <td>0.019896</td>\n",
       "      <td>0.011367</td>\n",
       "      <td>0.012675</td>\n",
       "      <td>0.012675</td>\n",
       "      <td>507746</td>\n",
       "      <td>NaN</td>\n",
       "    </tr>\n",
       "    <tr>\n",
       "      <th>2022-12-16</th>\n",
       "      <td>0.012677</td>\n",
       "      <td>0.172139</td>\n",
       "      <td>0.012202</td>\n",
       "      <td>0.107290</td>\n",
       "      <td>0.107290</td>\n",
       "      <td>4697223</td>\n",
       "      <td>NaN</td>\n",
       "    </tr>\n",
       "    <tr>\n",
       "      <th>2022-12-17</th>\n",
       "      <td>0.107290</td>\n",
       "      <td>0.150630</td>\n",
       "      <td>0.011547</td>\n",
       "      <td>0.014276</td>\n",
       "      <td>0.014276</td>\n",
       "      <td>432335</td>\n",
       "      <td>NaN</td>\n",
       "    </tr>\n",
       "    <tr>\n",
       "      <th>2022-12-18</th>\n",
       "      <td>0.014191</td>\n",
       "      <td>0.015778</td>\n",
       "      <td>0.010265</td>\n",
       "      <td>0.013442</td>\n",
       "      <td>0.013442</td>\n",
       "      <td>167722</td>\n",
       "      <td>NaN</td>\n",
       "    </tr>\n",
       "    <tr>\n",
       "      <th>2022-12-19</th>\n",
       "      <td>0.013442</td>\n",
       "      <td>0.013572</td>\n",
       "      <td>0.007423</td>\n",
       "      <td>0.009666</td>\n",
       "      <td>0.009666</td>\n",
       "      <td>174096</td>\n",
       "      <td>NaN</td>\n",
       "    </tr>\n",
       "    <tr>\n",
       "      <th>2022-12-20</th>\n",
       "      <td>0.009666</td>\n",
       "      <td>0.010508</td>\n",
       "      <td>0.007195</td>\n",
       "      <td>0.007620</td>\n",
       "      <td>0.007620</td>\n",
       "      <td>118473</td>\n",
       "      <td>NaN</td>\n",
       "    </tr>\n",
       "    <tr>\n",
       "      <th>2022-12-21</th>\n",
       "      <td>0.007623</td>\n",
       "      <td>0.013689</td>\n",
       "      <td>0.007118</td>\n",
       "      <td>0.011028</td>\n",
       "      <td>0.011028</td>\n",
       "      <td>185535</td>\n",
       "      <td>NaN</td>\n",
       "    </tr>\n",
       "    <tr>\n",
       "      <th>2022-12-22</th>\n",
       "      <td>0.011033</td>\n",
       "      <td>0.013308</td>\n",
       "      <td>0.008887</td>\n",
       "      <td>0.010722</td>\n",
       "      <td>0.010722</td>\n",
       "      <td>120727</td>\n",
       "      <td>NaN</td>\n",
       "    </tr>\n",
       "    <tr>\n",
       "      <th>2022-12-23</th>\n",
       "      <td>0.010713</td>\n",
       "      <td>0.012968</td>\n",
       "      <td>0.009526</td>\n",
       "      <td>0.010689</td>\n",
       "      <td>0.010689</td>\n",
       "      <td>55069</td>\n",
       "      <td>NaN</td>\n",
       "    </tr>\n",
       "    <tr>\n",
       "      <th>2022-12-24</th>\n",
       "      <td>0.010686</td>\n",
       "      <td>0.012929</td>\n",
       "      <td>0.010185</td>\n",
       "      <td>0.011963</td>\n",
       "      <td>0.011963</td>\n",
       "      <td>47133</td>\n",
       "      <td>NaN</td>\n",
       "    </tr>\n",
       "    <tr>\n",
       "      <th>2022-12-25</th>\n",
       "      <td>0.011963</td>\n",
       "      <td>0.011973</td>\n",
       "      <td>0.008108</td>\n",
       "      <td>0.009432</td>\n",
       "      <td>0.009432</td>\n",
       "      <td>71739</td>\n",
       "      <td>NaN</td>\n",
       "    </tr>\n",
       "    <tr>\n",
       "      <th>2022-12-26</th>\n",
       "      <td>0.009440</td>\n",
       "      <td>0.010490</td>\n",
       "      <td>0.008755</td>\n",
       "      <td>0.010480</td>\n",
       "      <td>0.010480</td>\n",
       "      <td>28592</td>\n",
       "      <td>NaN</td>\n",
       "    </tr>\n",
       "    <tr>\n",
       "      <th>2022-12-27</th>\n",
       "      <td>0.010479</td>\n",
       "      <td>0.011310</td>\n",
       "      <td>0.008916</td>\n",
       "      <td>0.009123</td>\n",
       "      <td>0.009123</td>\n",
       "      <td>30529</td>\n",
       "      <td>NaN</td>\n",
       "    </tr>\n",
       "    <tr>\n",
       "      <th>2022-12-28</th>\n",
       "      <td>0.009122</td>\n",
       "      <td>0.009209</td>\n",
       "      <td>0.007492</td>\n",
       "      <td>0.008330</td>\n",
       "      <td>0.008330</td>\n",
       "      <td>30020</td>\n",
       "      <td>NaN</td>\n",
       "    </tr>\n",
       "    <tr>\n",
       "      <th>2022-12-29</th>\n",
       "      <td>0.008330</td>\n",
       "      <td>0.009095</td>\n",
       "      <td>0.006963</td>\n",
       "      <td>0.008437</td>\n",
       "      <td>0.008437</td>\n",
       "      <td>50328</td>\n",
       "      <td>NaN</td>\n",
       "    </tr>\n",
       "    <tr>\n",
       "      <th>2022-12-30</th>\n",
       "      <td>0.008437</td>\n",
       "      <td>0.009773</td>\n",
       "      <td>0.007439</td>\n",
       "      <td>0.008443</td>\n",
       "      <td>0.008443</td>\n",
       "      <td>41223</td>\n",
       "      <td>NaN</td>\n",
       "    </tr>\n",
       "    <tr>\n",
       "      <th>2022-12-31</th>\n",
       "      <td>0.008449</td>\n",
       "      <td>0.008542</td>\n",
       "      <td>0.006670</td>\n",
       "      <td>0.007541</td>\n",
       "      <td>0.007541</td>\n",
       "      <td>30484</td>\n",
       "      <td>NaN</td>\n",
       "    </tr>\n",
       "    <tr>\n",
       "      <th>2023-01-01</th>\n",
       "      <td>0.007546</td>\n",
       "      <td>0.009776</td>\n",
       "      <td>0.007432</td>\n",
       "      <td>0.008771</td>\n",
       "      <td>0.008771</td>\n",
       "      <td>41364</td>\n",
       "      <td>NaN</td>\n",
       "    </tr>\n",
       "    <tr>\n",
       "      <th>2023-01-02</th>\n",
       "      <td>0.008771</td>\n",
       "      <td>0.012646</td>\n",
       "      <td>0.008708</td>\n",
       "      <td>0.012143</td>\n",
       "      <td>0.012143</td>\n",
       "      <td>87480</td>\n",
       "      <td>NaN</td>\n",
       "    </tr>\n",
       "    <tr>\n",
       "      <th>2023-01-03</th>\n",
       "      <td>0.012138</td>\n",
       "      <td>0.014570</td>\n",
       "      <td>0.011488</td>\n",
       "      <td>0.013006</td>\n",
       "      <td>0.013006</td>\n",
       "      <td>59517</td>\n",
       "      <td>NaN</td>\n",
       "    </tr>\n",
       "    <tr>\n",
       "      <th>2023-01-04</th>\n",
       "      <td>0.013006</td>\n",
       "      <td>0.014339</td>\n",
       "      <td>0.008899</td>\n",
       "      <td>0.009933</td>\n",
       "      <td>0.009933</td>\n",
       "      <td>60274</td>\n",
       "      <td>NaN</td>\n",
       "    </tr>\n",
       "    <tr>\n",
       "      <th>2023-01-05</th>\n",
       "      <td>0.009928</td>\n",
       "      <td>0.013891</td>\n",
       "      <td>0.008278</td>\n",
       "      <td>0.010726</td>\n",
       "      <td>0.010726</td>\n",
       "      <td>82903</td>\n",
       "      <td>0.022399</td>\n",
       "    </tr>\n",
       "    <tr>\n",
       "      <th>2023-01-06</th>\n",
       "      <td>0.010724</td>\n",
       "      <td>0.011726</td>\n",
       "      <td>0.007987</td>\n",
       "      <td>0.008440</td>\n",
       "      <td>0.008440</td>\n",
       "      <td>58817</td>\n",
       "      <td>0.022431</td>\n",
       "    </tr>\n",
       "    <tr>\n",
       "      <th>2023-01-07</th>\n",
       "      <td>0.008445</td>\n",
       "      <td>0.009495</td>\n",
       "      <td>0.008295</td>\n",
       "      <td>0.008557</td>\n",
       "      <td>0.008557</td>\n",
       "      <td>29286</td>\n",
       "      <td>0.022034</td>\n",
       "    </tr>\n",
       "    <tr>\n",
       "      <th>2023-01-08</th>\n",
       "      <td>0.008563</td>\n",
       "      <td>0.011981</td>\n",
       "      <td>0.008334</td>\n",
       "      <td>0.011189</td>\n",
       "      <td>0.011189</td>\n",
       "      <td>82253</td>\n",
       "      <td>0.021345</td>\n",
       "    </tr>\n",
       "    <tr>\n",
       "      <th>2023-01-09</th>\n",
       "      <td>0.011142</td>\n",
       "      <td>0.011746</td>\n",
       "      <td>0.008879</td>\n",
       "      <td>0.009463</td>\n",
       "      <td>0.009463</td>\n",
       "      <td>50781</td>\n",
       "      <td>0.016020</td>\n",
       "    </tr>\n",
       "    <tr>\n",
       "      <th>2023-01-10</th>\n",
       "      <td>0.009471</td>\n",
       "      <td>0.024949</td>\n",
       "      <td>0.008640</td>\n",
       "      <td>0.024949</td>\n",
       "      <td>0.024949</td>\n",
       "      <td>336853</td>\n",
       "      <td>0.015027</td>\n",
       "    </tr>\n",
       "  </tbody>\n",
       "</table>\n",
       "</div>"
      ],
      "text/plain": [
       "                Open      High       Low     Close  Adj Close    Volume  \\\n",
       "Date                                                                      \n",
       "2022-12-07  0.009758  0.022431  0.008640  0.020350   0.020350    716630   \n",
       "2022-12-08  0.020350  0.264914  0.015416  0.029237   0.029237  13807621   \n",
       "2022-12-09  0.029237  0.196895  0.028109  0.170911   0.170911   5270098   \n",
       "2022-12-10  0.170911  1.254307  0.021303  0.039266   0.039266  26391467   \n",
       "2022-12-11  0.039266  0.551347  0.016469  0.023328   0.023328   9357453   \n",
       "2022-12-12  0.023328  0.029100  0.014079  0.023604   0.023604    901092   \n",
       "2022-12-13  0.023405  0.031742  0.017644  0.020885   0.020885    528678   \n",
       "2022-12-14  0.020892  0.021030  0.015764  0.019879   0.019879    257892   \n",
       "2022-12-15  0.019896  0.019896  0.011367  0.012675   0.012675    507746   \n",
       "2022-12-16  0.012677  0.172139  0.012202  0.107290   0.107290   4697223   \n",
       "2022-12-17  0.107290  0.150630  0.011547  0.014276   0.014276    432335   \n",
       "2022-12-18  0.014191  0.015778  0.010265  0.013442   0.013442    167722   \n",
       "2022-12-19  0.013442  0.013572  0.007423  0.009666   0.009666    174096   \n",
       "2022-12-20  0.009666  0.010508  0.007195  0.007620   0.007620    118473   \n",
       "2022-12-21  0.007623  0.013689  0.007118  0.011028   0.011028    185535   \n",
       "2022-12-22  0.011033  0.013308  0.008887  0.010722   0.010722    120727   \n",
       "2022-12-23  0.010713  0.012968  0.009526  0.010689   0.010689     55069   \n",
       "2022-12-24  0.010686  0.012929  0.010185  0.011963   0.011963     47133   \n",
       "2022-12-25  0.011963  0.011973  0.008108  0.009432   0.009432     71739   \n",
       "2022-12-26  0.009440  0.010490  0.008755  0.010480   0.010480     28592   \n",
       "2022-12-27  0.010479  0.011310  0.008916  0.009123   0.009123     30529   \n",
       "2022-12-28  0.009122  0.009209  0.007492  0.008330   0.008330     30020   \n",
       "2022-12-29  0.008330  0.009095  0.006963  0.008437   0.008437     50328   \n",
       "2022-12-30  0.008437  0.009773  0.007439  0.008443   0.008443     41223   \n",
       "2022-12-31  0.008449  0.008542  0.006670  0.007541   0.007541     30484   \n",
       "2023-01-01  0.007546  0.009776  0.007432  0.008771   0.008771     41364   \n",
       "2023-01-02  0.008771  0.012646  0.008708  0.012143   0.012143     87480   \n",
       "2023-01-03  0.012138  0.014570  0.011488  0.013006   0.013006     59517   \n",
       "2023-01-04  0.013006  0.014339  0.008899  0.009933   0.009933     60274   \n",
       "2023-01-05  0.009928  0.013891  0.008278  0.010726   0.010726     82903   \n",
       "2023-01-06  0.010724  0.011726  0.007987  0.008440   0.008440     58817   \n",
       "2023-01-07  0.008445  0.009495  0.008295  0.008557   0.008557     29286   \n",
       "2023-01-08  0.008563  0.011981  0.008334  0.011189   0.011189     82253   \n",
       "2023-01-09  0.011142  0.011746  0.008879  0.009463   0.009463     50781   \n",
       "2023-01-10  0.009471  0.024949  0.008640  0.024949   0.024949    336853   \n",
       "\n",
       "            Open: 30 days rolling  \n",
       "Date                               \n",
       "2022-12-07                    NaN  \n",
       "2022-12-08                    NaN  \n",
       "2022-12-09                    NaN  \n",
       "2022-12-10                    NaN  \n",
       "2022-12-11                    NaN  \n",
       "2022-12-12                    NaN  \n",
       "2022-12-13                    NaN  \n",
       "2022-12-14                    NaN  \n",
       "2022-12-15                    NaN  \n",
       "2022-12-16                    NaN  \n",
       "2022-12-17                    NaN  \n",
       "2022-12-18                    NaN  \n",
       "2022-12-19                    NaN  \n",
       "2022-12-20                    NaN  \n",
       "2022-12-21                    NaN  \n",
       "2022-12-22                    NaN  \n",
       "2022-12-23                    NaN  \n",
       "2022-12-24                    NaN  \n",
       "2022-12-25                    NaN  \n",
       "2022-12-26                    NaN  \n",
       "2022-12-27                    NaN  \n",
       "2022-12-28                    NaN  \n",
       "2022-12-29                    NaN  \n",
       "2022-12-30                    NaN  \n",
       "2022-12-31                    NaN  \n",
       "2023-01-01                    NaN  \n",
       "2023-01-02                    NaN  \n",
       "2023-01-03                    NaN  \n",
       "2023-01-04                    NaN  \n",
       "2023-01-05               0.022399  \n",
       "2023-01-06               0.022431  \n",
       "2023-01-07               0.022034  \n",
       "2023-01-08               0.021345  \n",
       "2023-01-09               0.016020  \n",
       "2023-01-10               0.015027  "
      ]
     },
     "execution_count": 20,
     "metadata": {},
     "output_type": "execute_result"
    }
   ],
   "source": [
    "df_pr.head(35)"
   ]
  },
  {
   "cell_type": "code",
   "execution_count": 21,
   "metadata": {},
   "outputs": [
    {
     "data": {
      "text/plain": [
       "<AxesSubplot:xlabel='Date'>"
      ]
     },
     "execution_count": 21,
     "metadata": {},
     "output_type": "execute_result"
    },
    {
     "data": {
      "image/png": "[encoded data removed]",
      "text/plain": [
       "<Figure size 864x360 with 1 Axes>"
      ]
     },
     "metadata": {
      "needs_background": "light"
     },
     "output_type": "display_data"
    }
   ],
   "source": [
    "# helps with smoothing\n",
    "\n",
    "df_pr[['Open', 'Open: 30 days rolling']].plot(figsize = (12,5))"
   ]
  },
  {
   "cell_type": "code",
   "execution_count": 22,
   "metadata": {},
   "outputs": [
    {
     "data": {
      "text/html": [
       "<div>\n",
       "<style scoped>\n",
       "    .dataframe tbody tr th:only-of-type {\n",
       "        vertical-align: middle;\n",
       "    }\n",
       "\n",
       "    .dataframe tbody tr th {\n",
       "        vertical-align: top;\n",
       "    }\n",
       "\n",
       "    .dataframe thead th {\n",
       "        text-align: right;\n",
       "    }\n",
       "</style>\n",
       "<table border=\"1\" class=\"dataframe\">\n",
       "  <thead>\n",
       "    <tr style=\"text-align: right;\">\n",
       "      <th></th>\n",
       "      <th>Open</th>\n",
       "      <th>High</th>\n",
       "      <th>Low</th>\n",
       "      <th>Close</th>\n",
       "      <th>Adj Close</th>\n",
       "      <th>Volume</th>\n",
       "      <th>Open: 30 days rolling</th>\n",
       "    </tr>\n",
       "    <tr>\n",
       "      <th>Date</th>\n",
       "      <th></th>\n",
       "      <th></th>\n",
       "      <th></th>\n",
       "      <th></th>\n",
       "      <th></th>\n",
       "      <th></th>\n",
       "      <th></th>\n",
       "    </tr>\n",
       "  </thead>\n",
       "  <tbody>\n",
       "    <tr>\n",
       "      <th>2022-12-10</th>\n",
       "      <td>0.170911</td>\n",
       "      <td>1.254307</td>\n",
       "      <td>0.021303</td>\n",
       "      <td>0.039266</td>\n",
       "      <td>0.039266</td>\n",
       "      <td>26391467</td>\n",
       "      <td>NaN</td>\n",
       "    </tr>\n",
       "  </tbody>\n",
       "</table>\n",
       "</div>"
      ],
      "text/plain": [
       "                Open      High       Low     Close  Adj Close    Volume  \\\n",
       "Date                                                                      \n",
       "2022-12-10  0.170911  1.254307  0.021303  0.039266   0.039266  26391467   \n",
       "\n",
       "            Open: 30 days rolling  \n",
       "Date                               \n",
       "2022-12-10                    NaN  "
      ]
     },
     "execution_count": 22,
     "metadata": {},
     "output_type": "execute_result"
    }
   ],
   "source": [
    "df_pr[df_pr['High'] == df_pr['High'].max()]   #maximum high"
   ]
  },
  {
   "cell_type": "code",
   "execution_count": 23,
   "metadata": {},
   "outputs": [
    {
     "data": {
      "text/html": [
       "<div>\n",
       "<style scoped>\n",
       "    .dataframe tbody tr th:only-of-type {\n",
       "        vertical-align: middle;\n",
       "    }\n",
       "\n",
       "    .dataframe tbody tr th {\n",
       "        vertical-align: top;\n",
       "    }\n",
       "\n",
       "    .dataframe thead th {\n",
       "        text-align: right;\n",
       "    }\n",
       "</style>\n",
       "<table border=\"1\" class=\"dataframe\">\n",
       "  <thead>\n",
       "    <tr style=\"text-align: right;\">\n",
       "      <th></th>\n",
       "      <th>Open</th>\n",
       "      <th>High</th>\n",
       "      <th>Low</th>\n",
       "      <th>Close</th>\n",
       "      <th>Adj Close</th>\n",
       "      <th>Volume</th>\n",
       "      <th>Open: 30 days rolling</th>\n",
       "    </tr>\n",
       "    <tr>\n",
       "      <th>Date</th>\n",
       "      <th></th>\n",
       "      <th></th>\n",
       "      <th></th>\n",
       "      <th></th>\n",
       "      <th></th>\n",
       "      <th></th>\n",
       "      <th></th>\n",
       "    </tr>\n",
       "  </thead>\n",
       "  <tbody>\n",
       "    <tr>\n",
       "      <th>2023-09-06</th>\n",
       "      <td>0.00038</td>\n",
       "      <td>0.00041</td>\n",
       "      <td>0.000379</td>\n",
       "      <td>0.00041</td>\n",
       "      <td>0.00041</td>\n",
       "      <td>123</td>\n",
       "      <td>0.003194</td>\n",
       "    </tr>\n",
       "  </tbody>\n",
       "</table>\n",
       "</div>"
      ],
      "text/plain": [
       "               Open     High       Low    Close  Adj Close  Volume  \\\n",
       "Date                                                                 \n",
       "2023-09-06  0.00038  0.00041  0.000379  0.00041    0.00041     123   \n",
       "\n",
       "            Open: 30 days rolling  \n",
       "Date                               \n",
       "2023-09-06               0.003194  "
      ]
     },
     "execution_count": 23,
     "metadata": {},
     "output_type": "execute_result"
    }
   ],
   "source": [
    "df_pr[df_pr['High'] == df_pr['High'].min()] #minimum high"
   ]
  }
 ],
 "metadata": {
  "kernelspec": {
   "display_name": "base",
   "language": "python",
   "name": "python3"
  },
  "language_info": {
   "codemirror_mode": {
    "name": "ipython",
    "version": 3
   },
   "file_extension": ".py",
   "mimetype": "text/x-python",
   "name": "python",
   "nbconvert_exporter": "python",
   "pygments_lexer": "ipython3",
   "version": "3.6.15"
  },
  "orig_nbformat": 4
 },
 "nbformat": 4,
 "nbformat_minor": 2
}
